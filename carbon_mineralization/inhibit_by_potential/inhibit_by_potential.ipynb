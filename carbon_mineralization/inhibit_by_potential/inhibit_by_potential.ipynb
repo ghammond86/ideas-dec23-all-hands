{
 "cells": [
  {
   "cell_type": "code",
   "execution_count": null,
   "id": "1d0e5417-48ee-4ce6-a834-8a8e4d276ac9",
   "metadata": {},
   "outputs": [],
   "source": [
    "import os\n",
    "import sys\n",
    "sys.path.append('/scratch/ideas-dec23-all-hands/.python')\n",
    "from run import run_pflotran\n",
    "from plot import plot_results\n",
    "os.chdir('/scratch/ideas-dec23-all-hands/carbon_mineralization/inhibit_by_potential')"
   ]
  },
  {
   "cell_type": "code",
   "execution_count": null,
   "id": "14da8450-e7b3-456e-9c25-826929e64c64",
   "metadata": {},
   "outputs": [],
   "source": [
    "prefix = 'inhibit_by_potential'"
   ]
  },
  {
   "cell_type": "code",
   "execution_count": null,
   "id": "3bde31ed-0fb5-4065-86fd-933b004cb33e",
   "metadata": {},
   "outputs": [],
   "source": [
    "run_pflotran(prefix)"
   ]
  }
 ],
 "metadata": {
  "kernelspec": {
   "display_name": "Python 3 (ipykernel)",
   "language": "python",
   "name": "python3"
  },
  "language_info": {
   "codemirror_mode": {
    "name": "ipython",
    "version": 3
   },
   "file_extension": ".py",
   "mimetype": "text/x-python",
   "name": "python",
   "nbconvert_exporter": "python",
   "pygments_lexer": "ipython3",
   "version": "3.10.12"
  }
 },
 "nbformat": 4,
 "nbformat_minor": 5
}
