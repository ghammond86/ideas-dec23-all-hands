{
 "cells": [
  {
   "cell_type": "code",
   "execution_count": null,
   "id": "1d0e5417-48ee-4ce6-a834-8a8e4d276ac9",
   "metadata": {},
   "outputs": [],
   "source": [
    "import os\n",
    "import sys\n",
    "sys.path.append('/scratch/ideas-dec23-all-hands/.python')\n",
    "from run import run_pflotran\n",
    "from plot_1d import plot_results\n",
    "os.chdir('/scratch/ideas-dec23-all-hands/carbon_mineralization_1d')"
   ]
  },
  {
   "cell_type": "code",
   "execution_count": null,
   "id": "14da8450-e7b3-456e-9c25-826929e64c64",
   "metadata": {},
   "outputs": [],
   "source": [
    "prefix = 'inhibit_by_all_1d'"
   ]
  },
  {
   "cell_type": "code",
   "execution_count": null,
   "id": "3bde31ed-0fb5-4065-86fd-933b004cb33e",
   "metadata": {},
   "outputs": [],
   "source": [
    "os.system(f'$PFLOTRAN_DIR/src/pflotran/pflotran -input_prefix {prefix} '+\n",
    "          f'2>&1 > {prefix}.stdout')\n",
    "os.system(f'tail -30 {prefix}.stdout')"
   ]
  },
  {
   "cell_type": "code",
   "execution_count": null,
   "id": "5c57d688-a929-4ac0-bf0c-236abbc1da42",
   "metadata": {},
   "outputs": [],
   "source": [
    "plot_results(prefix+'-001.tec','linear')"
   ]
  },
  {
   "cell_type": "code",
   "execution_count": null,
   "id": "889c012d-6828-4a99-a51d-62f6b60c26b0",
   "metadata": {},
   "outputs": [],
   "source": [
    "plot_results(prefix+'-001.tec','log')"
   ]
  }
 ],
 "metadata": {
  "kernelspec": {
   "display_name": "Python 3 (ipykernel)",
   "language": "python",
   "name": "python3"
  },
  "language_info": {
   "codemirror_mode": {
    "name": "ipython",
    "version": 3
   },
   "file_extension": ".py",
   "mimetype": "text/x-python",
   "name": "python",
   "nbconvert_exporter": "python",
   "pygments_lexer": "ipython3",
   "version": "3.10.12"
  }
 },
 "nbformat": 4,
 "nbformat_minor": 5
}
